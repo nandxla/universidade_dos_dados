{
 "cells": [
  {
   "cell_type": "markdown",
   "metadata": {},
   "source": [
    "# Estatística x Estatística Descritiva x Inferência Estatística\n",
    "\n",
    "Podemos dizer que a estatística é o estudo dos dados em geral, abrangendo desde o processo de coleta até a análise e interpretação.\n",
    "\n",
    "A Estatística Descritiva, por outro lado, consiste em formas de resumir os dados. Como assim? Imagine que você tenha um conjunto de notas de um trimestre da sua faculdade ou escola e queira calcular a média. Isso é um exemplo de Estatística Descritiva. Você está pegando todos os seus dados (notas) e resumindo-os em um único valor (a média), e esse valor fornece uma descrição de todo o seu conjunto de dados, daí o termo \"descritiva\".\n",
    "\n",
    "Já a Inferência Estatística é quando utilizamos técnicas para tirar conclusões a partir dos dados e deduzir propriedades de toda uma população com base em uma amostra."
   ]
  },
  {
   "cell_type": "markdown",
   "metadata": {},
   "source": [
    "# Variáveis\n",
    "\n",
    "Na estatística, lidamos com o conceito de variáveis, que, embora possam ser relacionadas, são distintas das variáveis na programação. Vamos esclarecer isso: em estatística, as variáveis são características ou atributos de um conjunto de dados. Por exemplo, uma pessoa (um conjunto de dados) pode ter atributos como altura, peso, número de filhos, cor do cabelo e dos olhos, e todos esses são exemplos de variáveis. Da mesma forma, um carro (outro conjunto de dados) pode ter atributos como cor, quantidade de assentos, tipo de pneus, entre outros, que também são considerados variáveis.\n",
    "\n",
    "Podemos categorizar as variáveis em dois tipos principais, e cada um desses tipos possui duas subcategorias. Se isso ainda não está claro, vou explicar de forma mais visual.\n",
    "\n",
    "1. *Quantitativas, são aquelas que podemos medir.*\n",
    "\n",
    "**Dicretas**, de uma forma bem simples e rápida de entender, são aquelas que podemos contar (número naturais), quantidade de filhos de uma pessoa, quantidade de steps de um veículo, quantidade de planetas em um sistema solar e por ai vai. \n",
    "\n",
    "**Continuas**, são aquelas que o seu valor está dentro de um intervalo limitado, são medidas atráves dos números racionais, altura, peso, velocidade de um carro.\n",
    "\n",
    "\n",
    "2. *Qualitativas, são aquelas que não podemos medir, ou seja, não podemos atribuir um número a ela.*\n",
    "\n",
    "**Nominais**, variáveis que não possuem ordenação. Exemplos: sexo, cor dos olhos, nacionalidade, cidade de nascimento, etc.\n",
    "\n",
    "**Ordinais**, variáveis que possuem ordenação. Exemplos: escolaridade, classe social, etc."
   ]
  },
  {
   "cell_type": "markdown",
   "metadata": {},
   "source": [
    "# Medida de Tendência Central\n",
    "As medidas da estatística descritiva, como discutimos anteriormente, são ferramentas que nos ajudam a identificar a tendência dos nossos dados. Através delas, podemos compreender como os nossos dados estão distribuídos e onde a maioria dos valores está concentrada.\n",
    "\n",
    "1. Média\n",
    "2. Mediana\n",
    "3. Moda"
   ]
  },
  {
   "cell_type": "code",
   "execution_count": 1,
   "metadata": {},
   "outputs": [
    {
     "name": "stdout",
     "output_type": "stream",
     "text": [
      "Média: 7.75\n",
      "Mediana: 8.0\n",
      "Moda: 10\n"
     ]
    }
   ],
   "source": [
    "import statistics as sts\n",
    "\n",
    "notas = [10, 9, 7, 5]\n",
    "\n",
    "print(f'Média: {sts.mean(notas)}')\n",
    "print(f'Mediana: {sts.median(notas)}')\n",
    "print(f'Moda: {sts.mode(notas)}')"
   ]
  },
  {
   "cell_type": "markdown",
   "metadata": {},
   "source": [
    "# Entendendo e aplicando medidas de tendência central\n",
    "\n",
    "Em uma empresa com 100 funcionários, 30 deles ganham 1k, 50 ganham 1.2k, 15 ganham 900 e 5 executivos ganham 30k."
   ]
  },
  {
   "cell_type": "code",
   "execution_count": 2,
   "metadata": {},
   "outputs": [],
   "source": [
    "a = [1000] * 30\n",
    "b = [1200] * 50\n",
    "c = [900] * 15\n",
    "d = [30_000] * 5\n",
    "\n",
    "todos_salarios = a + b + c + d"
   ]
  },
  {
   "cell_type": "code",
   "execution_count": 3,
   "metadata": {},
   "outputs": [
    {
     "name": "stdout",
     "output_type": "stream",
     "text": [
      "1200\n",
      "2535\n"
     ]
    }
   ],
   "source": [
    "print(sts.mode(todos_salarios))  # a moda, valor que mais se repete, é 1200, ou seja, o que a maior parte deles ganham\n",
    "print(sts.mean(todos_salarios))  # a média é muito acima do salário de 95% dos funcionários, pq temos 5 outliers, que puxam o valor pra cima"
   ]
  },
  {
   "cell_type": "markdown",
   "metadata": {},
   "source": [
    "# Medidas de Dispersão\n",
    "Já vimos como funciona as medida de tedência central (média, mediana e moda), mas elas sozinhas não são capaz de mostrar como está meu conjunto de dados, mesmo dando uma visão muito boa deles, as medidas de dispersão vão mostrar o quão dispersos estão nossos dados.\n",
    "\n",
    "Por exemplo:\n",
    "\n",
    "A = {10, 10, 10, 10, 10} <br>\n",
    "B = {50, 0, 0, 0, 0} <br>\n",
    "C = {10, 13, 12, 15, 10} <br>\n",
    "\n",
    "A média dos 3 conjuntos de dados acima é 10, mas mesmo assim, podemos ver que eles são bastantes diferentes um dos outros.\n",
    "\n",
    "\n",
    "## Variância\n",
    "![Fórmula Variância](https://d4y70tum9c2ak.cloudfront.net/contentImage/f1xr7mgXgAxHoy9D6TKL9HHx7W6LJF_xG%2BFzrqftA5E/resized.png)\n",
    "\n",
    "**A variância vai somar o quadrado da diferênça de cada ponto da minha amostra para a média, e dividir pelo conjunto de pontos.** Com isso vamos ter uma noção, de quantos os nossos dados estão distantes da média.\n",
    "\n",
    "## Desvio Padrão\n",
    "O desvio padrão pega a fórmula acima e tira a raiz dos dois lados."
   ]
  },
  {
   "cell_type": "code",
   "execution_count": 12,
   "metadata": {},
   "outputs": [
    {
     "name": "stdout",
     "output_type": "stream",
     "text": [
      "Média A: 10 | Média B: 10 | Média C: 10\n",
      "Variância A: 0 | Variância B: 400 | Variância C: 27.6\n",
      "Desvio A: 0.0 | Desvio B: 20.0 | Desvio C: 5.253570214625479\n"
     ]
    }
   ],
   "source": [
    "A = [10, 10, 10, 10, 10]\n",
    "B = [50, 0, 0, 0, 0] \n",
    "C = [0, 13, 12, 15, 10]\n",
    "\n",
    "print(f\"Média A: {sts.mean(A)} | Média B: {sts.mean(B)} | Média C: {sts.mean(C)}\")\n",
    "print(f\"Variância A: {sts.pvariance(A)} | Variância B: {sts.pvariance(B)} | Variância C: {sts.pvariance(C)}\")\n",
    "print(f\"Desvio A: {sts.pstdev(A)} | Desvio B: {sts.pstdev(B)} | Desvio C: {sts.pstdev(C)}\")"
   ]
  },
  {
   "cell_type": "code",
   "execution_count": null,
   "metadata": {},
   "outputs": [],
   "source": []
  }
 ],
 "metadata": {
  "kernelspec": {
   "display_name": "Python 3 (ipykernel)",
   "language": "python",
   "name": "python3"
  },
  "language_info": {
   "codemirror_mode": {
    "name": "ipython",
    "version": 3
   },
   "file_extension": ".py",
   "mimetype": "text/x-python",
   "name": "python",
   "nbconvert_exporter": "python",
   "pygments_lexer": "ipython3",
   "version": "3.11.4"
  }
 },
 "nbformat": 4,
 "nbformat_minor": 4
}
