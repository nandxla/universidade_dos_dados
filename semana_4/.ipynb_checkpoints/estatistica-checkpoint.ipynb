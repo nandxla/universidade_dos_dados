{
  "cells": [
    {
      "cell_type": "markdown",
      "metadata": {},
      "source": [
        "# Estatística x Estatística Descritiva x Inferência Estatística\n",
        "\n",
        "Podemos dizer que estatística é o estudo dos dados, de uma forma geral, desde o processo de coleta, análisar e interpretar. \n",
        "\n",
        "Já a Estatística Descritiva são formas de sumarizar/resumir os dados. Como assim? Quando você tem um seu conjunto de notas do trimestre, da sua faculdade ou escola, e vai tirar a média, isso é uma forma de estatística descritiva, você tá pegando todos seus conjuntos de dados (notas) e resumindo em um único valor (média) e esse valor te dá uma descrição de todo seu conjunto de dados (por isso descritiva).\n",
        "\n",
        "Já a inferência estatística é quando usamos técnicas para tirar conclusões dos dados, e deduzir prorpriedades de toda uma população, a partir da amostra. "
      ]
    },
    {
      "cell_type": "markdown",
      "metadata": {},
      "source": [
        "# Variáveis\n",
        "\n",
        "Ná estatística temos o conceito de variável, porém, é diferente (mas nem tanto assim), do conceito de variável da programação. Bom, então vamos lá, na estatística, variáveis são características ou atributo de um tipo de dado, uma pessoa (tipo de dados), tem altura, peso, número de filhos, cor do cabelo e olhos, e isso tudo são variáveis, um carro (tipo de dado) possui cor, quantidade de acentos, tipo de pneu e por ai vai, e esses atributos são variáveis.\n",
        "\n",
        "Podemos dividir as variáveis em dois tipos, e cada um desses tipos possui outras duas subcategorias, não entendeu? vou tentar deixar de uma forma bem visual.\n",
        "\n",
        "1. Quantitativas, são aquelas que podemos medir\n",
        "\n",
        "--> Dicretas, de uma forma bem simples e rápida de entender, são aquelas que podemos contar (número naturais), quantidade de filhos de uma pessoa, quantidade de steps de um veículo, quantidade de planetas em um sistema solar e por ai vai. \n",
        "\n",
        "--> Continuas, são aquelas que o seu valor está dentro de um intervalo limitado, são medidas atráves dos números racionais, altura, peso, velocidade de um carro.\n",
        "\n",
        "\n",
        "2. Qualitativas, são aquelas que não podemos medir, ou seja, não podemos atribuir um número a ela\n",
        "\n",
        "--> Nominais, variáveis que não possuem ordenação. Exemplos: sexo, cor dos olhos, nacionalidade, cidade de nascimento, etc.\n",
        "\n",
        "--> Ordinais, variáveis que possuem ordenação. Exemplos: escolaridade, classe social, etc."
      ]
    },
    {
      "cell_type": "markdown",
      "metadata": {},
      "source": [
        "# Medida de Tendência Central\n",
        "Medidas da estatística descritiva (como já vimos antes), que vão mostrar a tendência dos nossos dados. A partir delas vamos entender como nossos dados estão distribuidos, onde a maioria dos valores estão centradas.\n",
        "\n",
        "1. Média\n",
        "2. Mediana\n",
        "3. Moda"
      ]
    },
    {
      "cell_type": "code",
      "execution_count": 3,
      "metadata": {},
      "outputs": [
        {
          "name": "stdout",
          "output_type": "stream",
          "text": [
            "Média: 7.75\n",
            "Mediana: 8.0\n",
            "Moda: 10\n"
          ]
        }
      ],
      "source": [
        "import statistics as sts\n",
        "\n",
        "notas = [10, 9, 7, 5]\n",
        "\n",
        "print(f'Média: {sts.mean(notas)}')\n",
        "print(f'Mediana: {sts.median(notas)}')\n",
        "print(f'Moda: {sts.mode(notas)}')"
      ]
    },
    {
      "cell_type": "markdown",
      "metadata": {},
      "source": [
        "# Entendendo e aplicando medidas de tendência central\n",
        "\n",
        "Em uma empresa com 100 funcionários, 30 deles ganham 1k, 50 ganham 1.2k, 15 ganham 900 e 5 executivos ganham 30k."
      ]
    },
    {
      "cell_type": "code",
      "execution_count": 4,
      "metadata": {},
      "outputs": [],
      "source": [
        "a = [1000] * 30\n",
        "b = [1200] * 50\n",
        "c = [900] * 15\n",
        "d = [30_000] * 5\n",
        "\n",
        "todos_salarios = a + b + c + d"
      ]
    },
    {
      "cell_type": "code",
      "execution_count": 7,
      "metadata": {},
      "outputs": [
        {
          "name": "stdout",
          "output_type": "stream",
          "text": [
            "1200\n",
            "2535\n"
          ]
        }
      ],
      "source": [
        "print(sts.mode(todos_salarios))  # a moda, valor que mais se repete, é 1200, ou seja, o que a maior parte deles ganham\n",
        "print(sts.mean(todos_salarios))  # a média é muito acima do salário de 95% dos funcionários, pq temos 5 outliers, que puxam o valor pra cima"
      ]
    },
    {
      "cell_type": "code",
      "execution_count": null,
      "metadata": {},
      "outputs": [],
      "source": []
    }
  ],
  "metadata": {
    "kernelspec": {
      "display_name": "base",
      "language": "python",
      "name": "python3"
    },
    "language_info": {
      "codemirror_mode": {
        "name": "ipython",
        "version": 3
      },
      "file_extension": ".py",
      "mimetype": "text/x-python",
      "name": "python",
      "nbconvert_exporter": "python",
      "pygments_lexer": "ipython3",
      "version": "3.11.4"
    },
    "orig_nbformat": 4
  },
  "nbformat": 4,
  "nbformat_minor": 2
}
