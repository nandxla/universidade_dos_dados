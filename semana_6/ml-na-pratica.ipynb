{
 "cells": [
  {
   "cell_type": "code",
   "execution_count": 15,
   "metadata": {},
   "outputs": [],
   "source": [
    "import pandas as pd\n",
    "import numpy as np\n",
    "\n",
    "import category_encoders as ce  # new lib for encoding categorical variables\n",
    "\n",
    "from sklearn.model_selection import train_test_split\n",
    "from sklearn.compose import ColumnTransformer\n",
    "from sklearn.pipeline import Pipeline\n",
    "from sklearn.tree import DecisionTreeClassifier\n",
    "from sklearn.impute import SimpleImputer\n",
    "\n",
    "from summarytools import dfSummary"
   ]
  },
  {
   "cell_type": "code",
   "execution_count": 3,
   "metadata": {},
   "outputs": [
    {
     "data": {
      "text/html": [
       "<style type=\"text/css\">\n",
       "#T_819e6 thead>tr>th {\n",
       "  text-align: left;\n",
       "}\n",
       "#T_819e6_row0_col0, #T_819e6_row1_col0, #T_819e6_row2_col0, #T_819e6_row3_col0, #T_819e6_row4_col0, #T_819e6_row5_col0, #T_819e6_row6_col0, #T_819e6_row7_col0, #T_819e6_row8_col0, #T_819e6_row9_col0, #T_819e6_row10_col0, #T_819e6_row11_col0 {\n",
       "  text-align: left;\n",
       "  font-size: 12px;\n",
       "  vertical-align: middle;\n",
       "  width: 5%;\n",
       "  max-width: 50px;\n",
       "  min-width: 20px;\n",
       "}\n",
       "#T_819e6_row0_col1, #T_819e6_row1_col1, #T_819e6_row2_col1, #T_819e6_row3_col1, #T_819e6_row4_col1, #T_819e6_row5_col1, #T_819e6_row6_col1, #T_819e6_row7_col1, #T_819e6_row8_col1, #T_819e6_row9_col1, #T_819e6_row10_col1, #T_819e6_row11_col1 {\n",
       "  text-align: left;\n",
       "  font-size: 12px;\n",
       "  vertical-align: middle;\n",
       "  width: 15%;\n",
       "  max-width: 200px;\n",
       "  min-width: 100px;\n",
       "  word-break: break-word;\n",
       "}\n",
       "#T_819e6_row0_col2, #T_819e6_row1_col2, #T_819e6_row2_col2, #T_819e6_row3_col2, #T_819e6_row4_col2, #T_819e6_row5_col2, #T_819e6_row6_col2, #T_819e6_row7_col2, #T_819e6_row8_col2, #T_819e6_row9_col2, #T_819e6_row10_col2, #T_819e6_row11_col2 {\n",
       "  text-align: left;\n",
       "  font-size: 12px;\n",
       "  vertical-align: middle;\n",
       "  width: 30%;\n",
       "  min-width: 100px;\n",
       "}\n",
       "#T_819e6_row0_col3, #T_819e6_row1_col3, #T_819e6_row2_col3, #T_819e6_row3_col3, #T_819e6_row4_col3, #T_819e6_row5_col3, #T_819e6_row6_col3, #T_819e6_row7_col3, #T_819e6_row8_col3, #T_819e6_row9_col3, #T_819e6_row10_col3, #T_819e6_row11_col3 {\n",
       "  text-align: left;\n",
       "  font-size: 12px;\n",
       "  vertical-align: middle;\n",
       "  width: 25%;\n",
       "  min-width: 100px;\n",
       "}\n",
       "#T_819e6_row0_col4, #T_819e6_row1_col4, #T_819e6_row2_col4, #T_819e6_row3_col4, #T_819e6_row4_col4, #T_819e6_row5_col4, #T_819e6_row6_col4, #T_819e6_row7_col4, #T_819e6_row8_col4, #T_819e6_row9_col4, #T_819e6_row10_col4, #T_819e6_row11_col4 {\n",
       "  text-align: left;\n",
       "  font-size: 12px;\n",
       "  vertical-align: middle;\n",
       "  width: 20%;\n",
       "  min-width: 150px;\n",
       "}\n",
       "#T_819e6_row0_col5, #T_819e6_row1_col5, #T_819e6_row2_col5, #T_819e6_row3_col5, #T_819e6_row4_col5, #T_819e6_row5_col5, #T_819e6_row6_col5, #T_819e6_row7_col5, #T_819e6_row8_col5, #T_819e6_row9_col5, #T_819e6_row10_col5, #T_819e6_row11_col5 {\n",
       "  text-align: left;\n",
       "  font-size: 12px;\n",
       "  vertical-align: middle;\n",
       "  width: 10%;\n",
       "}\n",
       "</style>\n",
       "<table id=\"T_819e6\">\n",
       "  <caption><strong>Data Frame Summary</strong><br>heart_df<br>Dimensions: 918 x 12<br>Duplicates: 0</caption>\n",
       "  <thead>\n",
       "    <tr>\n",
       "      <th id=\"T_819e6_level0_col0\" class=\"col_heading level0 col0\" >No</th>\n",
       "      <th id=\"T_819e6_level0_col1\" class=\"col_heading level0 col1\" >Variable</th>\n",
       "      <th id=\"T_819e6_level0_col2\" class=\"col_heading level0 col2\" >Stats / Values</th>\n",
       "      <th id=\"T_819e6_level0_col3\" class=\"col_heading level0 col3\" >Freqs / (% of Valid)</th>\n",
       "      <th id=\"T_819e6_level0_col4\" class=\"col_heading level0 col4\" >Graph</th>\n",
       "      <th id=\"T_819e6_level0_col5\" class=\"col_heading level0 col5\" >Missing</th>\n",
       "    </tr>\n",
       "  </thead>\n",
       "  <tbody>\n",
       "    <tr>\n",
       "      <td id=\"T_819e6_row0_col0\" class=\"data row0 col0\" >1</td>\n",
       "      <td id=\"T_819e6_row0_col1\" class=\"data row0 col1\" ><strong>Age</strong><br>[int64]</td>\n",
       "      <td id=\"T_819e6_row0_col2\" class=\"data row0 col2\" >Mean (sd) : 53.5 (9.4)<br>min < med < max:<br>28.0 < 54.0 < 77.0<br>IQR (CV) : 13.0 (5.7)</td>\n",
       "      <td id=\"T_819e6_row0_col3\" class=\"data row0 col3\" >50 distinct values</td>\n",
       "      <td id=\"T_819e6_row0_col4\" class=\"data row0 col4\" ><img src = \"data:image/png;base64, iVBORw0KGgoAAAANSUhEUgAAAKoAAABGCAYAAABc8A97AAAAOXRFWHRTb2Z0d2FyZQBNYXRwbG90bGliIHZlcnNpb24zLjcuMSwgaHR0cHM6Ly9tYXRwbG90bGliLm9yZy/bCgiHAAAACXBIWXMAAA9hAAAPYQGoP6dpAAAClUlEQVR4nO3dQY6iQBSA4VdDa1ATiDHRnReYpBcuPcQcdo4wC0/gDdyZGIKRaSIivZh04kx6uhGotl7xf3tsFn8bgaqHqapKANd9e/QJAHU8PfoEfGSMGYnIsOHh56qqXro8Hx8QaseMMaPZbPYjiqJpk+OPx2NijPlJrH8j1O4NoyiartfrlziO83sOTNM03Gw208PhMBQRQr1BqJbEcZzP5/PfDQ4ddX4yHuBiCioQKlQgVKhAqFCBUKECV/2OKctyICKRMabpR3j5wIBQHZJl2aAoiuflchkEQXDXPdg3vj4wIFSHnM/npzAMx6vVKl8sFsm9x/v8wIBQHTSZTJo+LBDx9IEBF1NQgVChAqFCBUKFCoQKFbjq/48Wq/Sj6/U66Pp8+o5Q39FmlX5RFGFZlt/zPP8lIk1vMeEfhPq+xqv0d7vddLvdji+XS2Dr5PqIUD/QZJV+kiRe3nB/NC6moAKhQgVChQqEChUIFSoQKlQgVKhAqFCBUKECoUIFQoUK3j7rbzlMl6V6jvEy1LbDdDUv1Ws5wMLZ4RVehiotlumJ6F2q13aAhcvDK3wNVUSaD9PVulSvzQAL14dXeB1qX7UYYOHsP6jTobJvCW+cDZV9S7jlbKjCviXccDlUEWHfEv7gyRRUIFSoQKhQgVChAqFCBUKFCoQKFQgVKhAqVCBUqECoUIFQoYLzi1LwdVx+YbDVUNkJqofrLwy2Fmqfd4Jq5PoLg21+o/ZyJ6h2rr4w2Ppv1L7tBIUdXPVDBUKFCoQKFbiPis7YnHv1aagMgUAdtudefRgqQyBQl+25V599ozIEAnexNfeq1m9UhkDg0WqFmqZpeO8Hn06nUEQky7Jwv9+Pv/J4rX9b63m3Pb5OX6/+sLLp9hMoWwAAAABJRU5ErkJggg==\"></img></td>\n",
       "      <td id=\"T_819e6_row0_col5\" class=\"data row0 col5\" >0<br>(0.0%)</td>\n",
       "    </tr>\n",
       "    <tr>\n",
       "      <td id=\"T_819e6_row1_col0\" class=\"data row1 col0\" >2</td>\n",
       "      <td id=\"T_819e6_row1_col1\" class=\"data row1 col1\" ><strong>Sex</strong><br>[object]</td>\n",
       "      <td id=\"T_819e6_row1_col2\" class=\"data row1 col2\" >1. M<br>2. F</td>\n",
       "      <td id=\"T_819e6_row1_col3\" class=\"data row1 col3\" >725 (79.0%)<br>193 (21.0%)</td>\n",
       "      <td id=\"T_819e6_row1_col4\" class=\"data row1 col4\" ><img src = \"data:image/png;base64, iVBORw0KGgoAAAANSUhEUgAAAJsAAAAuCAYAAAA/ZmtKAAAAOXRFWHRTb2Z0d2FyZQBNYXRwbG90bGliIHZlcnNpb24zLjcuMSwgaHR0cHM6Ly9tYXRwbG90bGliLm9yZy/bCgiHAAAACXBIWXMAAA9hAAAPYQGoP6dpAAABNUlEQVR4nO3bwYnDMBCF4dFiwuYiYQwuxkVssVuEujHGOiQhF+WQGvRmwP9XwUD+BGL8Uu/dAIVkZnczu3kfguHevfen5wHTsix/OefZ8wiM11o7Ukr/nsFNOed527ZnKeXldQTGOs/zt9Y67/t+MzO/2MzMSimvdV0fXkdA4u59wI/3AbgOYoMMsUGG2CBDbJAhNsgQG2SIDTLEBhligwyxQYbYIENskCE2yBAbZCaz78t13odgnCif79RaO2qtswV4uQ7jtNYOM3t73sDg5TrcBy+JKR9UovyyuX/rMF6IKV+EmRnGc5/yRZmZYbwoUz7+CV8AD3UhQ2yQITbIEBtkiA0yxAYZYoMMsUGG2CBDbJAhNsgQG2SIDTLEBhlig4z7lC/KzAzjhZjyRZiZYTwGL5D5AApbat9q39BWAAAAAElFTkSuQmCC\"></img></td>\n",
       "      <td id=\"T_819e6_row1_col5\" class=\"data row1 col5\" >0<br>(0.0%)</td>\n",
       "    </tr>\n",
       "    <tr>\n",
       "      <td id=\"T_819e6_row2_col0\" class=\"data row2 col0\" >3</td>\n",
       "      <td id=\"T_819e6_row2_col1\" class=\"data row2 col1\" ><strong>ChestPainType</strong><br>[object]</td>\n",
       "      <td id=\"T_819e6_row2_col2\" class=\"data row2 col2\" >1. ASY<br>2. NAP<br>3. ATA<br>4. TA</td>\n",
       "      <td id=\"T_819e6_row2_col3\" class=\"data row2 col3\" >496 (54.0%)<br>203 (22.1%)<br>173 (18.8%)<br>46 (5.0%)</td>\n",
       "      <td id=\"T_819e6_row2_col4\" class=\"data row2 col4\" ><img src = \"data:image/png;base64, iVBORw0KGgoAAAANSUhEUgAAAJsAAABcCAYAAAB5jMeAAAAAOXRFWHRTb2Z0d2FyZQBNYXRwbG90bGliIHZlcnNpb24zLjcuMSwgaHR0cHM6Ly9tYXRwbG90bGliLm9yZy/bCgiHAAAACXBIWXMAAA9hAAAPYQGoP6dpAAAB70lEQVR4nO3bQWrbUBiF0V/FhGYiYQxejBfRxXYR2o0x1iAJmSiDzlrqZCDuU6RzNuCH+ZCQ0O3meS5I+NH6AOyH2Ijpquq5qp5aH2RD3ud5fm19iDU6nE6nX33fH1sfZCumabp1XfdbcP869H1/vFwur8MwvLU+zHd3v99/juN4vF6vT1Ultr8cqqqGYXg7n88vrQ+zEc+tD7BWHhCIERsxYiNGbMSIjRixESM2YsRGjNiIERsxYiNGbMSIjZhD1Z9PY1ofZAv8j48dpmm6jeN4LJ/GLGKapltVvbc+xxr5LHx5Pgv/j86UjxQPCMSs6Tbq9rNxq1lXWSVt3yrWVVZJ+7CmdZVXLxvnAYEYsREjNmLERozYiBEbMWIjRmzEiI0YsREjNmLERozYiBEbMauY8rX+fTJWM+Uzgds+GwRiTPmIaXVlcxXboSbrKkuqfYqvqyyp9qvVusqSaoe81CVGbMSIjRixESM2YsRGjNiIERsxYiNGbMSIjRixESM2YsRGTHxdZUm1X03WVZZU+2SDQIx1FTFfubK5CrGIT9dVllAs5eG6yhKKJX1lXWUJxSK81CVGbMSIjRixESM2YsRGjNiIERsxYiNGbMSIjRixESM2YsRGzMN1lSUUS/p0XWUJxVJsEIixriLGAwIxH7NY2LncjNTWAAAAAElFTkSuQmCC\"></img></td>\n",
       "      <td id=\"T_819e6_row2_col5\" class=\"data row2 col5\" >0<br>(0.0%)</td>\n",
       "    </tr>\n",
       "    <tr>\n",
       "      <td id=\"T_819e6_row3_col0\" class=\"data row3 col0\" >4</td>\n",
       "      <td id=\"T_819e6_row3_col1\" class=\"data row3 col1\" ><strong>RestingBP</strong><br>[int64]</td>\n",
       "      <td id=\"T_819e6_row3_col2\" class=\"data row3 col2\" >Mean (sd) : 132.4 (18.5)<br>min < med < max:<br>0.0 < 130.0 < 200.0<br>IQR (CV) : 20.0 (7.2)</td>\n",
       "      <td id=\"T_819e6_row3_col3\" class=\"data row3 col3\" >67 distinct values</td>\n",
       "      <td id=\"T_819e6_row3_col4\" class=\"data row3 col4\" ><img src = \"data:image/png;base64, iVBORw0KGgoAAAANSUhEUgAAAKoAAABGCAYAAABc8A97AAAAOXRFWHRTb2Z0d2FyZQBNYXRwbG90bGliIHZlcnNpb24zLjcuMSwgaHR0cHM6Ly9tYXRwbG90bGliLm9yZy/bCgiHAAAACXBIWXMAAA9hAAAPYQGoP6dpAAACU0lEQVR4nO3dP47aQBiG8W/CwtqAbCEU6LhAJApKDpHD5ggpOAHtVnQWCBnhrIMxThdppUSJ/wm/1vPrB0/xNAP4G1cUhQFd9+nZGwD+x8uzN4CPnHO+mY1qfMStKIr3pvbTFYTaIc45fz6ffw2CYFb1My6Xy9k5961vsRJqt4yCIJhtt9v3MAzTsovjOPZ2u93sdDqNzIxQ0a4wDNPFYvGj4nK/0c10BIcpSCBUSCBUSCBUSCBUSCBUSCBUSCBUSCBUSCBUSCBUSCBUSCBUSCBUSCBUSCBUSCBUSCBUSCBUSCBUSCBUSCBUSCBUSCBUSCBUSCBUSCBUSGD2VM/keT40s8A5V2V5Z0dWEmqPJEkyzLJsvVqtBoPBoPQ0wC6PrCTUHrndbi+e5403m026XC7PZdZ2fWQlofbQZDKpOraysyMrOUxBAqFCAqFCAqFCAqFCAqFCAqFCAqFCAqFCAr9MtaDGfabB4/EYNr2fPiDUhtW5zzTLMi/P8y9pmn43s6o39/USoTav8n2mh8Nhtt/vx/f7fdDW5lQRakuq3Gd6Pp87+6eQZ+MwBQmECgmECgmECgmECgmECgmECgmECgl84Y/fag6vMGtxgAWhwszqD68wa3eABaHCzOoNrzBrf4AFoeKDGsMrzFocYMFhChIIFRIIFRIIFRI4TKExbQ4RJtS/4AW9ctoeIkyof8ALeuW1PUT4n6E65zwzey3z4B4IptPp5/V6ffd9/2eZhcfj0Xt7exvHcTyJouhWZu31evXMzJIk8aIoGpdZW3d9U89uyy9OwfJSjvEGhwAAAABJRU5ErkJggg==\"></img></td>\n",
       "      <td id=\"T_819e6_row3_col5\" class=\"data row3 col5\" >0<br>(0.0%)</td>\n",
       "    </tr>\n",
       "    <tr>\n",
       "      <td id=\"T_819e6_row4_col0\" class=\"data row4 col0\" >5</td>\n",
       "      <td id=\"T_819e6_row4_col1\" class=\"data row4 col1\" ><strong>Cholesterol</strong><br>[int64]</td>\n",
       "      <td id=\"T_819e6_row4_col2\" class=\"data row4 col2\" >Mean (sd) : 198.8 (109.4)<br>min < med < max:<br>0.0 < 223.0 < 603.0<br>IQR (CV) : 93.8 (1.8)</td>\n",
       "      <td id=\"T_819e6_row4_col3\" class=\"data row4 col3\" >222 distinct values</td>\n",
       "      <td id=\"T_819e6_row4_col4\" class=\"data row4 col4\" ><img src = \"data:image/png;base64, iVBORw0KGgoAAAANSUhEUgAAAKoAAABGCAYAAABc8A97AAAAOXRFWHRTb2Z0d2FyZQBNYXRwbG90bGliIHZlcnNpb24zLjcuMSwgaHR0cHM6Ly9tYXRwbG90bGliLm9yZy/bCgiHAAAACXBIWXMAAA9hAAAPYQGoP6dpAAACo0lEQVR4nO3cu47aQBSA4TOwIHOJLUQEHU3KSCkoeYg8bNp0WYlia9pUNAiBuAgHB2OcItpuswsz48XH+b9+2Cl+DTJ7PCbPcwHKrnbvDQDXeLj3BopijGmJSNPhI055nh997QduKhmqMabV7/e/hmHYs/2M/X6/McZ8I9ZyqGSoItIMw7A3mUyOURQlty7e7XbBdDrtrdfrpogQaglUNVQREYmiKBkMBr8sl7e8bgZOeJiCCoQKFQgVKhAqVCBUqECoUIFQoQKhQgVChQqEChUIFSpU+n/9LrIsa4hIaIyxWc6IoGeE+oI4jhtpmn4ZjUb1er1+8/QVI4L+EeoLTqfTQxAE7fF4nAyHw80taxkRLAahvqLT6diOCTIi6BkPU1CBUKECoUIFQoUKhAoVCBUqECpUIFSoQKhQgVChAqFCBUKFCm8OpThe38hcJrx4NVTX6xuZy4Qvb52o1tc3MpcJn66aR3W4vpG5THjBwxRUIFSoQKhQgVChAqFCBUKFCoQKFQgVKhAqVCBUqECoUIFQoQKhQgVChQqEChW4H7UAXKvuH6F6xrXqxSh1qA4vFoaXy6Xhez/X4Fr1YpQ2VJcXC9M0DbIs+5wkyQ8RsXmFxhnXqvtV2lDF4cXC+Xzem81m7fP5XC9qc3hfZQ5VROxeLNxsNpxKFcPPU1CBUKECoUIFQoUKhAoVCBUqECpUIFSoUPof/P83jpNXIhWdviLUEnGdvBKp7vRVoaE6ng53m4C6F5fJK5G/01ePj4+D9Xr90Rizt9hCTUQuFuueFXaaXxXqbrcLbv3gxWLxweV0eJ6AWq1WT7euPRwOgYhIHMfBcrlsv+d6H2ttHY9H6xM5y7JGHMefut3uz1qtltr8/e12ezDGfBcRm2+D33me/3PdH2QbKxvc2AZiAAAAAElFTkSuQmCC\"></img></td>\n",
       "      <td id=\"T_819e6_row4_col5\" class=\"data row4 col5\" >0<br>(0.0%)</td>\n",
       "    </tr>\n",
       "    <tr>\n",
       "      <td id=\"T_819e6_row5_col0\" class=\"data row5 col0\" >6</td>\n",
       "      <td id=\"T_819e6_row5_col1\" class=\"data row5 col1\" ><strong>FastingBS</strong><br>[int64]</td>\n",
       "      <td id=\"T_819e6_row5_col2\" class=\"data row5 col2\" >Mean (sd) : 0.2 (0.4)<br>min < med < max:<br>0.0 < 0.0 < 1.0<br>IQR (CV) : 0.0 (0.6)</td>\n",
       "      <td id=\"T_819e6_row5_col3\" class=\"data row5 col3\" >2 distinct values</td>\n",
       "      <td id=\"T_819e6_row5_col4\" class=\"data row5 col4\" ><img src = \"data:image/png;base64, iVBORw0KGgoAAAANSUhEUgAAAKoAAABGCAYAAABc8A97AAAAOXRFWHRTb2Z0d2FyZQBNYXRwbG90bGliIHZlcnNpb24zLjcuMSwgaHR0cHM6Ly9tYXRwbG90bGliLm9yZy/bCgiHAAAACXBIWXMAAA9hAAAPYQGoP6dpAAABtElEQVR4nO3dQYqDQBBG4aohiG66EcHDeIgcNofwNhLaRZSAcXazGSZqJ8PMD+/bahUuHoog6Ou6GvDfffz1BQB7nLZOcPfKzIrM/fd1XafMWeDL01DdvWqa5hxCqHOWj+N4dfcLseJVW3fUIoRQd103xRjnI4tTSmXf9/UwDIWZESpesvnoNzOLMc5t294y9lcZM8A3vExBAqFCAqFCAqFCAqFCAqFCAqFCAqFCAqFCAqFCAqFCAqFCAqFCAqFCAqFCAqFCAqFCAqFCAqFCAqFCAqFCAqFCAqFCAqFCAqFCAqFCAqFCAqFCAqFCAqFCAqFCAqFCAqFCAqFCAqFCAqFCAqFCAqFCAqFCAqFCAqFCAqFCAqFCwq5/oQJ7uHtlZkXm+P3ZX8gJFW/h7lXTNOcQQp0zP47j1d0vP8VKqHiXIoRQd103xRjnI4MppbLv+3oYhsLMCBW/L8Y4t217yxitnh3kZQoSCBUSCBUSCBUSCBUSCBUSCBUSCBUSCBUSCBUSCBUSCBUSCBUSCBUSCBUSCBUSdn04nVIqjy5OKZXLspzMLLj74QuDnPB4PE65rWyd8wkdKU593dIm/AAAAABJRU5ErkJggg==\"></img></td>\n",
       "      <td id=\"T_819e6_row5_col5\" class=\"data row5 col5\" >0<br>(0.0%)</td>\n",
       "    </tr>\n",
       "    <tr>\n",
       "      <td id=\"T_819e6_row6_col0\" class=\"data row6 col0\" >7</td>\n",
       "      <td id=\"T_819e6_row6_col1\" class=\"data row6 col1\" ><strong>RestingECG</strong><br>[object]</td>\n",
       "      <td id=\"T_819e6_row6_col2\" class=\"data row6 col2\" >1. Normal<br>2. LVH<br>3. ST</td>\n",
       "      <td id=\"T_819e6_row6_col3\" class=\"data row6 col3\" >552 (60.1%)<br>188 (20.5%)<br>178 (19.4%)</td>\n",
       "      <td id=\"T_819e6_row6_col4\" class=\"data row6 col4\" ><img src = \"data:image/png;base64, iVBORw0KGgoAAAANSUhEUgAAAJsAAABFCAYAAABdVZTTAAAAOXRFWHRTb2Z0d2FyZQBNYXRwbG90bGliIHZlcnNpb24zLjcuMSwgaHR0cHM6Ly9tYXRwbG90bGliLm9yZy/bCgiHAAAACXBIWXMAAA9hAAAPYQGoP6dpAAABi0lEQVR4nO3bwWkCYRRF4TdhkGQzgwgWYxEpNkVMNyL+iyhuJov0cJ5wz1fBQ47KiHfa970kwkf3AcoxVdVXVR26Dwnz2vf90X0EbT6dTt/Lshy7D0kyxrhN0/STFty8LMvxcrk81nV9dh+T4H6/f27bdrxer4eqyoqtqmpd1+f5fP7tPibIV/cBHXxAEMbYhDE2YYxNGGMTxtiEMTZhjE0YYxPG2IQxNmGMTRhjE8bYhJmr/v9j1X1IiuTXeh5j3LZtO1bof6w6jDFuVfXqvoPmBqFH5AZhcsonyjt8skW+yxO1r6tSl0aJWtdVyUujRO+wrvIpOIQ/6gpjbMIYmzDGJoyxCWNswhibMMYmjLEJY2zCGJswxiaMsQljbMK0rquSl0aJ2tdVqUujRG4QhHFdJYwPCMJ0fo369RmmbcrnhC9Py5TPCV+mzimfE74wPiAIY2zCGJswxiaMsQljbMIYmzDGJoyxCWNswhibMMYmjLEJY2zCtEz5nPBlapvyOeHL4wZBGKd8wvwBSryjSmlvcwAAAAAASUVORK5CYII=\"></img></td>\n",
       "      <td id=\"T_819e6_row6_col5\" class=\"data row6 col5\" >0<br>(0.0%)</td>\n",
       "    </tr>\n",
       "    <tr>\n",
       "      <td id=\"T_819e6_row7_col0\" class=\"data row7 col0\" >8</td>\n",
       "      <td id=\"T_819e6_row7_col1\" class=\"data row7 col1\" ><strong>MaxHR</strong><br>[int64]</td>\n",
       "      <td id=\"T_819e6_row7_col2\" class=\"data row7 col2\" >Mean (sd) : 136.8 (25.5)<br>min < med < max:<br>60.0 < 138.0 < 202.0<br>IQR (CV) : 36.0 (5.4)</td>\n",
       "      <td id=\"T_819e6_row7_col3\" class=\"data row7 col3\" >119 distinct values</td>\n",
       "      <td id=\"T_819e6_row7_col4\" class=\"data row7 col4\" ><img src = \"data:image/png;base64, iVBORw0KGgoAAAANSUhEUgAAAKoAAABGCAYAAABc8A97AAAAOXRFWHRTb2Z0d2FyZQBNYXRwbG90bGliIHZlcnNpb24zLjcuMSwgaHR0cHM6Ly9tYXRwbG90bGliLm9yZy/bCgiHAAAACXBIWXMAAA9hAAAPYQGoP6dpAAAChUlEQVR4nO3dQY7aMBSA4edmQAGkRAgJdlygUhcsOUQP2yN0wQm4ATskFIFIJyKEdNsFM0Niu/iZ/9tb9eIXncQPY9q2FSB03569AeARb8/eQKiMMSMRGfZcfmnb9t3lfl4dod5hjBnNZrOfWZZN+6w/nU6FMeYXsbpDqPcNsyybrtfr9zzPqy4Lj8djutlspofDYSgihOoIoX4iz/NqPp//6bF05HwzL46HKahAqFCB//o9aJpmICKZMabPct4Y3EGojpVlOajr+sdyuUySJOn0ICbCG4OPEKpjl8vlLU3T8Wq1qhaLRdFlLW8MPkaonkwmE94YOMTDFFQgVKhAqFCBUKECoUIFQoUKvJ4KjOWplkikJ1uEGhDbUy2ReE+2CDUgNqdaInGfbBFqgCxOtUQiPdniYQoq8IkamVhHDAk1IjGPGBJqRGIeMSTUCMU4YsjDFFQgVKhAqFAh2r9RLe+Oym6328DlfmAnylBt746q6zptmuZ7VVW/RaTvCREcijJUsbg7SkRkt9tNt9vt+Hq9Jj42h+5iDVVE+t8dVRRFsK9pXhUPU1CBUKECoUIFQoUKhAoVCBUqECpUIFSoQKhQgVChAqFCBUKFCoQKFYKenrIYfmbwOTLBhmoz/Mzgcz8h3yQYbKhiMfzM4HN3od8kGHKoItJv+JnB5+5Cv0kw+FDxf4V6kyBP/VCBUKECoUIFQoUKhAoVCBUqECpUIFSoQKhQgVChAqFCBa9n/VymC1e8hcplunDJ5ycql+nCmS9Dtf06SJ7nBZfpvgafP2/5aah8HQSP8v3zll99ovJ1EDzE989bep/wL8sy3e/3467rzudz2ne9zdpn/tta9/3vel/+Ajo6pulABbcgAAAAAElFTkSuQmCC\"></img></td>\n",
       "      <td id=\"T_819e6_row7_col5\" class=\"data row7 col5\" >0<br>(0.0%)</td>\n",
       "    </tr>\n",
       "    <tr>\n",
       "      <td id=\"T_819e6_row8_col0\" class=\"data row8 col0\" >9</td>\n",
       "      <td id=\"T_819e6_row8_col1\" class=\"data row8 col1\" ><strong>ExerciseAngina</strong><br>[object]</td>\n",
       "      <td id=\"T_819e6_row8_col2\" class=\"data row8 col2\" >1. N<br>2. Y</td>\n",
       "      <td id=\"T_819e6_row8_col3\" class=\"data row8 col3\" >547 (59.6%)<br>371 (40.4%)</td>\n",
       "      <td id=\"T_819e6_row8_col4\" class=\"data row8 col4\" ><img src = \"data:image/png;base64, iVBORw0KGgoAAAANSUhEUgAAAJsAAAAuCAYAAAA/ZmtKAAAAOXRFWHRTb2Z0d2FyZQBNYXRwbG90bGliIHZlcnNpb24zLjcuMSwgaHR0cHM6Ly9tYXRwbG90bGliLm9yZy/bCgiHAAAACXBIWXMAAA9hAAAPYQGoP6dpAAABM0lEQVR4nO3bwWnDQBRF0T9BmHgzgxC4GBWRYlPEdCOEZhEbbyaL9PA+5N1Twbe5CGz0ypwzAIUSEfeIuGUfYuQ953xmH5Fh2bbtq9a6Zh/iYoxxllK+HYNbaq3rvu/P1tor+5j/7rquz977ehzHLSL8YouIaK29Ho/HT/YxJu7ZB2T5yD4APogNMsQGGWKDDLFBhtggQ2yQITbIEBtkiA0yxAYZYoMMsUGG2CBDbJBZIv5e6ss+xIH797yMMc7e+xrGL/UpjTHOiHhn35GBwYue7eClMOWDivuTzfYpk8F6yuc8q8tgO+Vzn9VlcJ/y8QtciD91IUNskCE2yBAbZIgNMsQGGWKDDLFBhtggQ2yQITbIEBtkiA0yxAYZYoOM7ZTP8TNns57yOc/qMjB4YX8g8wsKW2rfwuH0SAAAAABJRU5ErkJggg==\"></img></td>\n",
       "      <td id=\"T_819e6_row8_col5\" class=\"data row8 col5\" >0<br>(0.0%)</td>\n",
       "    </tr>\n",
       "    <tr>\n",
       "      <td id=\"T_819e6_row9_col0\" class=\"data row9 col0\" >10</td>\n",
       "      <td id=\"T_819e6_row9_col1\" class=\"data row9 col1\" ><strong>Oldpeak</strong><br>[float64]</td>\n",
       "      <td id=\"T_819e6_row9_col2\" class=\"data row9 col2\" >Mean (sd) : 0.9 (1.1)<br>min < med < max:<br>-2.6 < 0.6 < 6.2<br>IQR (CV) : 1.5 (0.8)</td>\n",
       "      <td id=\"T_819e6_row9_col3\" class=\"data row9 col3\" >53 distinct values</td>\n",
       "      <td id=\"T_819e6_row9_col4\" class=\"data row9 col4\" ><img src = \"data:image/png;base64, iVBORw0KGgoAAAANSUhEUgAAAKoAAABGCAYAAABc8A97AAAAOXRFWHRTb2Z0d2FyZQBNYXRwbG90bGliIHZlcnNpb24zLjcuMSwgaHR0cHM6Ly9tYXRwbG90bGliLm9yZy/bCgiHAAAACXBIWXMAAA9hAAAPYQGoP6dpAAACYklEQVR4nO3dv27aUBiG8e+UPzVQ2QIk2LiBSB0Y2bv2YnsJHRg6cwdsCIRAuHEwxp1adSBpsdP4vKfPb/9iD48SOZzPuLIsDfDdu6ZvAPgb7aZv4CXOuZ6ZdSuOn8uyfHzN+0FzvA3VOdcbj8ef4zgeVpk/Ho9759wXYg2Dt6GaWTeO4+FisXhMkiS7Z/BwOETL5XK42+26ZkaoAfA5VDMzS5Ikm0wm3yuM9l79ZtAYHqYggVAhgVAhgVAhgVAhgVAhgVAhgVAhgVAhgVAhgVAhgVAhgVAhgVAhgVAhgVAhgVAhgVAhgVAhgVAhgVAhwfst1Kbw8gu/EOoNvPzCP4R6Gy+/8AyhvoCXX/iDhylIIFRIIFRIIFRIIFRIIFRIIFRIIFRIIFRIIFRIIFRIIFRIIFRIIFRIIFRIIFRIIFRICPaEf1EUHTOLnXNVxuPr9dpp6NosBt4QZKhpmnbyPP84m81arVbrrp0nM7M8z6OiKB6yLPtqZnetotS9NouBtwUZ6vl8bkdR1J/P59l0Ot3fO79er4er1ap/uVxab3ltFgOfF2SoPw0Gg0rLefv9vvZyXtVrG4uBN/EwBQmECgmECgmECgmECgmECgmECgmECgmECglBfzKlqOaBFrNAD7UQqkfqHmgxC/dQC6F6pO5hmpAPtRCqh2ocaDEL9FALD1OQwG/UwIS6XUCoAQl5u+CfhlrzS8Vq7S39j0LeLvhjqM65yMzeV/jZ0Wg0+pQkyYcKs7/2lrbb7bd7Z0+nU2RmlqZptNls+m8539Ts7/NVFUXRtnr/w63jqSzLZ/8K/ACVyxvinKArEgAAAABJRU5ErkJggg==\"></img></td>\n",
       "      <td id=\"T_819e6_row9_col5\" class=\"data row9 col5\" >0<br>(0.0%)</td>\n",
       "    </tr>\n",
       "    <tr>\n",
       "      <td id=\"T_819e6_row10_col0\" class=\"data row10 col0\" >11</td>\n",
       "      <td id=\"T_819e6_row10_col1\" class=\"data row10 col1\" ><strong>ST_Slope</strong><br>[object]</td>\n",
       "      <td id=\"T_819e6_row10_col2\" class=\"data row10 col2\" >1. Flat<br>2. Up<br>3. Down</td>\n",
       "      <td id=\"T_819e6_row10_col3\" class=\"data row10 col3\" >460 (50.1%)<br>395 (43.0%)<br>63 (6.9%)</td>\n",
       "      <td id=\"T_819e6_row10_col4\" class=\"data row10 col4\" ><img src = \"data:image/png;base64, iVBORw0KGgoAAAANSUhEUgAAAJsAAABFCAYAAABdVZTTAAAAOXRFWHRTb2Z0d2FyZQBNYXRwbG90bGliIHZlcnNpb24zLjcuMSwgaHR0cHM6Ly9tYXRwbG90bGliLm9yZy/bCgiHAAAACXBIWXMAAA9hAAAPYQGoP6dpAAABmUlEQVR4nO3bQWrqABSF4ZtHKO0kQQQX4yK62LeI7EbEDNrSSTpoB3VmlJwQ+n0ruMiPkuBppmkqSPi39gH8HU1VvVTV09qHbNDnNE3vax+xJe1+v3/tum639iFbM47juWma/4K7Xdt13e54PL73ff+x9jFbcblcnodh2J1Op6eqEtuN2qqqvu8/DofD29rHbMzL2gdsjQcEYsRGjNiIERsxYiNGbMSIjRixESM2YsRGjNiIERsxYiNGbMS0Vd//z1r7kC3xed2nHcfxPAzDrvw/a5ZxHM9V9bn2HVtig3A/G4SZGlM+UnyzXfNttSDrql8sppZlXfXDYmp51lXXPJEvyEtdYsRGjNiIERsxYiNGbMSIjRixESM2YsRGjNiIERsxYiNGbMRYV/3wGSzPuuoXi6ll2SBcs0FYkHUVMR4QiJn7M+pnhrvNmvKZuvGIm6d8pm48au6U78+/HuF+HhCIERsxYiNGbMSIjRixESM2YsRGjNiIERsxYiNGbMSIjRixEXPzlM/UjUfNmvKZuvEIGwRiTPmI+QK+8aNKqWvfiwAAAABJRU5ErkJggg==\"></img></td>\n",
       "      <td id=\"T_819e6_row10_col5\" class=\"data row10 col5\" >0<br>(0.0%)</td>\n",
       "    </tr>\n",
       "    <tr>\n",
       "      <td id=\"T_819e6_row11_col0\" class=\"data row11 col0\" >12</td>\n",
       "      <td id=\"T_819e6_row11_col1\" class=\"data row11 col1\" ><strong>HeartDisease</strong><br>[int64]</td>\n",
       "      <td id=\"T_819e6_row11_col2\" class=\"data row11 col2\" >Mean (sd) : 0.6 (0.5)<br>min < med < max:<br>0.0 < 1.0 < 1.0<br>IQR (CV) : 1.0 (1.1)</td>\n",
       "      <td id=\"T_819e6_row11_col3\" class=\"data row11 col3\" >2 distinct values</td>\n",
       "      <td id=\"T_819e6_row11_col4\" class=\"data row11 col4\" ><img src = \"data:image/png;base64, iVBORw0KGgoAAAANSUhEUgAAAKoAAABGCAYAAABc8A97AAAAOXRFWHRTb2Z0d2FyZQBNYXRwbG90bGliIHZlcnNpb24zLjcuMSwgaHR0cHM6Ly9tYXRwbG90bGliLm9yZy/bCgiHAAAACXBIWXMAAA9hAAAPYQGoP6dpAAABeklEQVR4nO3aQWrCQBiG4ZkiopsEETyMh+hhewhvI2VcVCloegJrFIP9yvNsJxNm8RIY8tdhGAr8dW+vPgCMMXv1Afg/aq3LUsr8we3fwzAcry0KlaeotS7X6/V713WrR/YfDofPWuvHtViFyrPMu65bbbfbY9/3p3s2ttYWu91utd/v56UUoTK9vu9Pm83m64Gty98WXaaIIFQiCJUIQiWCUIkgVCIIlQhCJYJQiXDzz9SUgwYw1q+hTj1oAGPd+qJOOmgAY40aSplq0ADGcpkiglCJIFQiCJUIQiWCUIkgVCIIlQhCJYJQiSBUIgiVCEIlglCJIFQiCJUIQiWCUIkgVCIIlQhCJYJQiSBUIgiVCEIlglCJIFQiCJUIQiWCUIkgVCIIlQhCJYJQiSBUIgiVCEIlglCJIFQiCJUIQiWCUIkgVCIIlQhCJYJQiSBUIgiVCEIlglCJMBvzUGttce+LW2uL8/k8K6V0tda7D0ac7nK5zB5t5dYzP9TSTn1f1jUKAAAAAElFTkSuQmCC\"></img></td>\n",
       "      <td id=\"T_819e6_row11_col5\" class=\"data row11 col5\" >0<br>(0.0%)</td>\n",
       "    </tr>\n",
       "  </tbody>\n",
       "</table>\n"
      ],
      "text/plain": [
       "<pandas.io.formats.style.Styler at 0x1a57f7e3090>"
      ]
     },
     "execution_count": 3,
     "metadata": {},
     "output_type": "execute_result"
    }
   ],
   "source": [
    "heart_df = pd.read_csv('heart.csv')\n",
    "dfSummary(heart_df)"
   ]
  },
  {
   "cell_type": "code",
   "execution_count": null,
   "metadata": {},
   "outputs": [],
   "source": [
    "X = heart_df.drop('HeartDisease', axis=1)\n",
    "y = heart_df['HeartDisease']\n",
    "\n",
    "X, y"
   ]
  },
  {
   "cell_type": "markdown",
   "metadata": {},
   "source": [
    "Antes de fazer qualquer anteração com os dados (preprocessamento) com os dados para a construção do modelo, vamos antes separar eles em treino e validação.\n",
    "\n",
    "Se separarmos depois de fazer o preprocessamento, preencher colunas vazias por exemplo, o nosso dado treino vai \"ver\" o dado de teste, e isso vai prejudicar o modelo."
   ]
  },
  {
   "cell_type": "code",
   "execution_count": 27,
   "metadata": {},
   "outputs": [],
   "source": [
    "X_train, X_valid, y_train, y_valid = train_test_split(X, y) "
   ]
  },
  {
   "cell_type": "code",
   "execution_count": 28,
   "metadata": {},
   "outputs": [
    {
     "data": {
      "text/plain": [
       "(['Sex', 'ChestPainType', 'RestingECG', 'ExerciseAngina', 'ST_Slope'],\n",
       " ['Age', 'RestingBP', 'Cholesterol', 'FastingBS', 'MaxHR'])"
      ]
     },
     "execution_count": 28,
     "metadata": {},
     "output_type": "execute_result"
    }
   ],
   "source": [
    "cat_cols = [col for col in X_train.columns if X_train[col].dtype == 'object']\n",
    "num_cols = [col for col in X_train.columns if X_train[col].dtype == 'int64']\n",
    "\n",
    "cat_cols, num_cols"
   ]
  },
  {
   "cell_type": "code",
   "execution_count": 29,
   "metadata": {},
   "outputs": [],
   "source": [
    "# usados para fazer transformações em tipos diferentes de colunas\n",
    "cat_pipe = Pipeline([\n",
    "    ('imputer', SimpleImputer(strategy='most_frequent')),\n",
    "    ('encoder', ce.OneHotEncoder())\n",
    "])\n",
    "\n",
    "transformer = ColumnTransformer([\n",
    "    (\"cat_transform\", cat_pipe, cat_cols),\n",
    "    (\"num_transform\", SimpleImputer(strategy='median'), num_cols)\n",
    "])"
   ]
  },
  {
   "cell_type": "code",
   "execution_count": 31,
   "metadata": {},
   "outputs": [],
   "source": [
    "X_train_transform = transformer.fit_transform(X_train, y_train)\n",
    "X_valid_transform = transformer.transform(X_valid) "
   ]
  },
  {
   "cell_type": "code",
   "execution_count": 35,
   "metadata": {},
   "outputs": [],
   "source": [
    "tree = DecisionTreeClassifier()"
   ]
  },
  {
   "cell_type": "code",
   "execution_count": 37,
   "metadata": {},
   "outputs": [],
   "source": [
    "tree.fit(X_train_transform, y_train)\n",
    "predict = tree.predict(X_valid_transform)"
   ]
  },
  {
   "cell_type": "code",
   "execution_count": 38,
   "metadata": {},
   "outputs": [],
   "source": [
    "import sklearn.metrics as skmetrics"
   ]
  },
  {
   "cell_type": "code",
   "execution_count": 41,
   "metadata": {},
   "outputs": [
    {
     "name": "stdout",
     "output_type": "stream",
     "text": [
      "Acurária: 76.96%\n"
     ]
    }
   ],
   "source": [
    "print(f\"Acurária: {round(skmetrics.accuracy_score(y_valid, predict) * 100, 2)}%\")"
   ]
  },
  {
   "cell_type": "code",
   "execution_count": null,
   "metadata": {},
   "outputs": [],
   "source": []
  }
 ],
 "metadata": {
  "kernelspec": {
   "display_name": "base",
   "language": "python",
   "name": "python3"
  },
  "language_info": {
   "codemirror_mode": {
    "name": "ipython",
    "version": 3
   },
   "file_extension": ".py",
   "mimetype": "text/x-python",
   "name": "python",
   "nbconvert_exporter": "python",
   "pygments_lexer": "ipython3",
   "version": "3.11.4"
  }
 },
 "nbformat": 4,
 "nbformat_minor": 2
}
