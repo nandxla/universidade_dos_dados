{
 "cells": [
  {
   "cell_type": "code",
   "execution_count": 10,
   "metadata": {},
   "outputs": [],
   "source": [
    "import pandas as pd\n",
    "import numpy as np\n",
    "from sklearn.ensemble import RandomForestRegressor\n",
    "from sklearn.metrics import mean_absolute_error\n",
    "from sklearn.model_selection import train_test_split\n",
    "from dtype_diet import report_on_dataframe, optimize_dtypes"
   ]
  },
  {
   "cell_type": "code",
   "execution_count": 15,
   "metadata": {},
   "outputs": [],
   "source": [
    "houses = pd.read_csv('melb_data.csv')\n",
    "report = report_on_dataframe(houses)\n",
    "houses = optimize_dtypes(houses, report)"
   ]
  },
  {
   "cell_type": "code",
   "execution_count": 16,
   "metadata": {},
   "outputs": [
    {
     "name": "stdout",
     "output_type": "stream",
     "text": [
      "<class 'pandas.core.frame.DataFrame'>\n",
      "RangeIndex: 13580 entries, 0 to 13579\n",
      "Data columns (total 21 columns):\n",
      " #   Column         Non-Null Count  Dtype   \n",
      "---  ------         --------------  -----   \n",
      " 0   Suburb         13580 non-null  category\n",
      " 1   Address        13580 non-null  object  \n",
      " 2   Rooms          13580 non-null  int8    \n",
      " 3   Type           13580 non-null  category\n",
      " 4   Price          13580 non-null  float32 \n",
      " 5   Method         13580 non-null  category\n",
      " 6   SellerG        13580 non-null  category\n",
      " 7   Date           13580 non-null  category\n",
      " 8   Distance       13580 non-null  float64 \n",
      " 9   Postcode       13580 non-null  float32 \n",
      " 10  Bedroom2       13580 non-null  float16 \n",
      " 11  Bathroom       13580 non-null  float16 \n",
      " 12  Car            13518 non-null  float16 \n",
      " 13  Landsize       13580 non-null  float32 \n",
      " 14  BuildingArea   7130 non-null   float64 \n",
      " 15  YearBuilt      8205 non-null   float16 \n",
      " 16  CouncilArea    12211 non-null  category\n",
      " 17  Lattitude      13580 non-null  float64 \n",
      " 18  Longtitude     13580 non-null  float64 \n",
      " 19  Regionname     13580 non-null  category\n",
      " 20  Propertycount  13580 non-null  float32 \n",
      "dtypes: category(7), float16(4), float32(4), float64(4), int8(1), object(1)\n",
      "memory usage: 1006.7+ KB\n"
     ]
    }
   ],
   "source": [
    "houses.info()"
   ]
  },
  {
   "cell_type": "code",
   "execution_count": 19,
   "metadata": {},
   "outputs": [],
   "source": [
    "houses_features = houses.drop('Price', axis=1)\n",
    "x = houses_features.select_dtypes(exclude=['object', 'category']) \n",
    "y = houses['Price']\n",
    "\n",
    "x_train, x_test, y_train, y_test = train_test_split(x, y, train_size=0.8, test_size=0.2)"
   ]
  },
  {
   "cell_type": "code",
   "execution_count": 22,
   "metadata": {},
   "outputs": [],
   "source": [
    "# definindo a qualidade do modelo\n",
    "\n",
    "def dataset_score(x_train, x_test, y_train, y_test):\n",
    "    model = RandomForestRegressor()\n",
    "    model.fit(x_train, y_train)\n",
    "    predict = model.predict(x_test)\n",
    "    \n",
    "    return mean_absolute_error(y_test, predict)"
   ]
  },
  {
   "cell_type": "markdown",
   "metadata": {},
   "source": [
    "### DROP COLUMNS"
   ]
  },
  {
   "cell_type": "code",
   "execution_count": 31,
   "metadata": {},
   "outputs": [
    {
     "name": "stdout",
     "output_type": "stream",
     "text": [
      "MAE WITH DROP COLUMNS IS: 180145.00965778658\n"
     ]
    }
   ],
   "source": [
    "names_with_missing_values = [col for col in x_train.columns if x_train[col].isnull().any()]\n",
    "\n",
    "x_train_reduce = x_train.drop(names_with_missing_values, axis=1)\n",
    "x_test_reduce = x_test.drop(names_with_missing_values, axis=1)\n",
    "\n",
    "mae_drop_columns = dataset_score(x_train_reduce, x_test_reduce, y_train, y_test)\n",
    "\n",
    "print(f\"MAE WITH DROP COLUMNS IS: {mae_drop_columns}\")"
   ]
  },
  {
   "cell_type": "markdown",
   "metadata": {},
   "source": [
    "### Imputer"
   ]
  },
  {
   "cell_type": "code",
   "execution_count": 34,
   "metadata": {},
   "outputs": [],
   "source": [
    "from sklearn.impute import SimpleImputer\n",
    "\n",
    "imputer = SimpleImputer()\n",
    "\n",
    "x_train_imputed = pd.DataFrame(imputer.fit_transform(x_train))\n",
    "x_test_imputed = pd.DataFrame(imputer.fit_transform(x_test))"
   ]
  },
  {
   "cell_type": "code",
   "execution_count": 36,
   "metadata": {},
   "outputs": [
    {
     "name": "stdout",
     "output_type": "stream",
     "text": [
      "MAE WITH IMPUTED COLUMNS IS: 173572.4802872747\n"
     ]
    }
   ],
   "source": [
    "mea_imputed_columns = dataset_score(x_train_imputed, x_test_imputed, y_train, y_test)\n",
    "print(f\"MAE WITH IMPUTED COLUMNS IS: {mea_imputed_columns}\")\n"
   ]
  },
  {
   "cell_type": "code",
   "execution_count": null,
   "metadata": {},
   "outputs": [],
   "source": []
  }
 ],
 "metadata": {
  "kernelspec": {
   "display_name": "base",
   "language": "python",
   "name": "python3"
  },
  "language_info": {
   "codemirror_mode": {
    "name": "ipython",
    "version": 3
   },
   "file_extension": ".py",
   "mimetype": "text/x-python",
   "name": "python",
   "nbconvert_exporter": "python",
   "pygments_lexer": "ipython3",
   "version": "3.10.9"
  },
  "orig_nbformat": 4
 },
 "nbformat": 4,
 "nbformat_minor": 2
}
