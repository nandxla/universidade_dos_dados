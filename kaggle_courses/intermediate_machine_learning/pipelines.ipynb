{
 "cells": [
  {
   "cell_type": "code",
   "execution_count": 34,
   "metadata": {},
   "outputs": [],
   "source": [
    "import pandas as pd\n",
    "import numpy as np\n",
    "\n",
    "from sklearn.model_selection import train_test_split\n",
    "from sklearn.impute import SimpleImputer\n",
    "from sklearn.compose import ColumnTransformer\n",
    "from sklearn.pipeline import Pipeline\n",
    "from sklearn. preprocessing import OneHotEncoder\n",
    "from sklearn.ensemble import RandomForestRegressor\n",
    "from sklearn.metrics import mean_absolute_error\n",
    "\n",
    "from dtype_diet import optimize_dtypes, report_on_dataframe"
   ]
  },
  {
   "cell_type": "markdown",
   "metadata": {},
   "source": [
    "# Importando e limpando os dados"
   ]
  },
  {
   "cell_type": "code",
   "execution_count": 14,
   "metadata": {},
   "outputs": [
    {
     "name": "stdout",
     "output_type": "stream",
     "text": [
      "<class 'pandas.core.frame.DataFrame'>\n",
      "RangeIndex: 13580 entries, 0 to 13579\n",
      "Data columns (total 20 columns):\n",
      " #   Column         Non-Null Count  Dtype  \n",
      "---  ------         --------------  -----  \n",
      " 0   Suburb         13580 non-null  object \n",
      " 1   Address        13580 non-null  object \n",
      " 2   Rooms          13580 non-null  int64  \n",
      " 3   Type           13580 non-null  object \n",
      " 4   Price          13580 non-null  float64\n",
      " 5   Method         13580 non-null  object \n",
      " 6   SellerG        13580 non-null  object \n",
      " 7   Date           13580 non-null  object \n",
      " 8   Distance       13580 non-null  float64\n",
      " 9   Postcode       13580 non-null  float64\n",
      " 10  Bedroom2       13580 non-null  float64\n",
      " 11  Bathroom       13580 non-null  float64\n",
      " 12  Car            13580 non-null  float64\n",
      " 13  Landsize       13580 non-null  float64\n",
      " 14  BuildingArea   13580 non-null  float64\n",
      " 15  YearBuilt      13580 non-null  float64\n",
      " 16  Lattitude      13580 non-null  float64\n",
      " 17  Longtitude     13580 non-null  float64\n",
      " 18  Regionname     13580 non-null  object \n",
      " 19  Propertycount  13580 non-null  float64\n",
      "dtypes: float64(12), int64(1), object(7)\n",
      "memory usage: 2.1+ MB\n"
     ]
    }
   ],
   "source": [
    "impute = SimpleImputer()\n",
    "\n",
    "houses_df = pd.read_csv('melb_data.csv')\n",
    "cols_with_null = [col for col in houses_df.columns if houses_df[col].isnull().any()]\n",
    "\n",
    "houses_df.drop('CouncilArea', axis=1, inplace=True)\n",
    "houses_df[cols_with_null] = pd.DataFrame(impute.fit_transform(houses_df[cols_with_null]))"
   ]
  },
  {
   "cell_type": "markdown",
   "metadata": {},
   "source": [
    "# DEIXAR O DATAFRAME MAIS OPTIMIZADO"
   ]
  },
  {
   "cell_type": "code",
   "execution_count": 30,
   "metadata": {},
   "outputs": [
    {
     "name": "stdout",
     "output_type": "stream",
     "text": [
      "<class 'pandas.core.frame.DataFrame'>\n",
      "RangeIndex: 13580 entries, 0 to 13579\n",
      "Data columns (total 21 columns):\n",
      " #   Column         Non-Null Count  Dtype   \n",
      "---  ------         --------------  -----   \n",
      " 0   Suburb         13580 non-null  category\n",
      " 1   Address        13580 non-null  object  \n",
      " 2   Rooms          13580 non-null  int8    \n",
      " 3   Type           13580 non-null  category\n",
      " 4   Price          13580 non-null  float32 \n",
      " 5   Method         13580 non-null  category\n",
      " 6   SellerG        13580 non-null  category\n",
      " 7   Date           13580 non-null  category\n",
      " 8   Distance       13580 non-null  float64 \n",
      " 9   Postcode       13580 non-null  float32 \n",
      " 10  Bedroom2       13580 non-null  float16 \n",
      " 11  Bathroom       13580 non-null  float16 \n",
      " 12  Car            13518 non-null  float16 \n",
      " 13  Landsize       13580 non-null  float32 \n",
      " 14  BuildingArea   7130 non-null   float64 \n",
      " 15  YearBuilt      8205 non-null   float16 \n",
      " 16  CouncilArea    12211 non-null  category\n",
      " 17  Lattitude      13580 non-null  float64 \n",
      " 18  Longtitude     13580 non-null  float64 \n",
      " 19  Regionname     13580 non-null  category\n",
      " 20  Propertycount  13580 non-null  float32 \n",
      "dtypes: category(7), float16(4), float32(4), float64(4), int8(1), object(1)\n",
      "memory usage: 1006.7+ KB\n"
     ]
    }
   ],
   "source": [
    "houses_df = pd.read_csv('melb_data.csv')\n",
    "\n",
    "report_df = report_on_dataframe(houses_df)\n",
    "houses_df = optimize_dtypes(houses_df, report_df)  # reatribuindo com tipos mais performáticos\n",
    "\n",
    "houses_df.info()"
   ]
  },
  {
   "cell_type": "markdown",
   "metadata": {},
   "source": [
    "# VAMOS TRABALHAR COM PIPELINES"
   ]
  },
  {
   "cell_type": "code",
   "execution_count": 39,
   "metadata": {},
   "outputs": [
    {
     "name": "stdout",
     "output_type": "stream",
     "text": [
      "<class 'pandas.core.frame.DataFrame'>\n",
      "Index: 10864 entries, 12167 to 2732\n",
      "Data columns (total 20 columns):\n",
      " #   Column         Non-Null Count  Dtype   \n",
      "---  ------         --------------  -----   \n",
      " 0   Suburb         10864 non-null  category\n",
      " 1   Address        10864 non-null  object  \n",
      " 2   Rooms          10864 non-null  int8    \n",
      " 3   Type           10864 non-null  category\n",
      " 4   Method         10864 non-null  category\n",
      " 5   SellerG        10864 non-null  category\n",
      " 6   Date           10864 non-null  category\n",
      " 7   Distance       10864 non-null  float64 \n",
      " 8   Postcode       10864 non-null  float32 \n",
      " 9   Bedroom2       10864 non-null  float16 \n",
      " 10  Bathroom       10864 non-null  float16 \n",
      " 11  Car            10815 non-null  float16 \n",
      " 12  Landsize       10864 non-null  float32 \n",
      " 13  BuildingArea   5708 non-null   float64 \n",
      " 14  YearBuilt      6557 non-null   float16 \n",
      " 15  CouncilArea    9792 non-null   category\n",
      " 16  Lattitude      10864 non-null  float64 \n",
      " 17  Longtitude     10864 non-null  float64 \n",
      " 18  Regionname     10864 non-null  category\n",
      " 19  Propertycount  10864 non-null  float32 \n",
      "dtypes: category(7), float16(4), float32(3), float64(4), int8(1), object(1)\n",
      "memory usage: 852.8+ KB\n"
     ]
    }
   ],
   "source": [
    "y = houses_df['Price']\n",
    "X = houses_df.drop('Price', axis=1)\n",
    "\n",
    "X_train_full, X_valid_full, y_train, y_valid = train_test_split(X, y, train_size=0.8, random_state=0)\n",
    "\n",
    "categorical_cols = [col for col in X_train_full.columns if X_train_full[col].dtype == 'category']\n",
    "numerical_cols = [col for col in X_train_full.columns if X_train_full[col].dtype in ['int8', 'float16', 'float32', 'float64']]\n",
    "\n",
    "my_cols = categorical_cols + numerical_cols\n",
    "\n",
    "X_train = X_train_full.copy()\n",
    "X_valid = X_valid_full.copy()\n",
    "X_train.info()\n"
   ]
  },
  {
   "cell_type": "code",
   "execution_count": 37,
   "metadata": {},
   "outputs": [],
   "source": [
    "numerical_transform = SimpleImputer(strategy='constant')  # pre processamento de variaveis numericas\n",
    "\n",
    "categorical_transform = Pipeline(steps=[  # pre processamento de variaveis categoricas\n",
    "    ('imputer', SimpleImputer(strategy='most_frequent')),\n",
    "    ('onehot', OneHotEncoder(handle_unknown='ignore')),\n",
    "])\n",
    "\n",
    "\n",
    "# JUNÇÃO DE TODOS OS PRE PROCESSAMENTOS\n",
    "preprocessor = ColumnTransformer(\n",
    "    transformers=[\n",
    "        ('num', numerical_transform, numerical_cols),\n",
    "        ('cat', categorical_transform, categorical_cols),\n",
    "    ]\n",
    ")"
   ]
  },
  {
   "cell_type": "code",
   "execution_count": 40,
   "metadata": {},
   "outputs": [
    {
     "name": "stdout",
     "output_type": "stream",
     "text": [
      "160628.49889543446\n"
     ]
    }
   ],
   "source": [
    "model = RandomForestRegressor(n_estimators=100, random_state=0)\n",
    "\n",
    "my_pipeline = Pipeline(steps=[\n",
    "    ('preprocessor', preprocessor),\n",
    "    ('model', model),\n",
    "])\n",
    "\n",
    "my_pipeline.fit(X_train, y_train)\n",
    "\n",
    "pred = my_pipeline.predict(X_valid)\n",
    "mea = mean_absolute_error(y_valid, pred)\n",
    "\n",
    "print(mea)"
   ]
  },
  {
   "cell_type": "code",
   "execution_count": null,
   "metadata": {},
   "outputs": [],
   "source": []
  }
 ],
 "metadata": {
  "kernelspec": {
   "display_name": "base",
   "language": "python",
   "name": "python3"
  },
  "language_info": {
   "codemirror_mode": {
    "name": "ipython",
    "version": 3
   },
   "file_extension": ".py",
   "mimetype": "text/x-python",
   "name": "python",
   "nbconvert_exporter": "python",
   "pygments_lexer": "ipython3",
   "version": "3.10.9"
  },
  "orig_nbformat": 4
 },
 "nbformat": 4,
 "nbformat_minor": 2
}
