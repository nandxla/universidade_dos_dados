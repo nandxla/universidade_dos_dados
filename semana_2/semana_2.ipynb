{
 "cells": [
  {
   "cell_type": "markdown",
   "metadata": {},
   "source": [
    "### O que é um Modelo?\n",
    "Representação matemática que relaciona um conjunto de variáveis com um determinado alvo. Representar padrões no histórico em um forma matemática, uma função.\n",
    "\n",
    "### Regressão Linear\n",
    "Regressão linear, assim como DecisionTree e RandomForest é um tipo de algoritmo de machine learning. Vai fazer uma predição a partir de uma reta, uma função do primeiro grau, o nosso modelo vai encontrar a reta que for capaz de passar por maior parte dos pontos.\n",
    "\n",
    "\n",
    "<center><br><br>\n",
    "<img src=\"images/regressao linear.png\" width=400>\n",
    "<br><br></center>\n",
    "\n",
    "### Loss Function, como é calculada a veracidade de uma regressão linear?\n",
    "Como já vimos que existem diversos tipos de modelos e com isso cada modelo vai ter sua forma de como calculamos sua veracidade. Temos o MAE (média absoluta dos erros, que vai pegar o módulo dos erros e calcular a média aritmética) e também temos a Loss Function, que é calculada da seguinte forma:\n",
    "\n",
    "<center><br><br>\n",
    "<img src=\"images/1_-e1QGatrODWpJkEwqP4Jyg.png\" width=400>\n",
    "<br><br></center>\n",
    "\n",
    "- N: número de pontos \n",
    "- (Y - Yi): Diferença entra o valor real pelo valor da predição\n",
    "\n",
    "Ou seja, a média aritimética dos erros ao quadrado.\n",
    "\n",
    "\n",
    "### Overfiting e Underfiting\n",
    "Já vimos esse conceito anteriormente, uma coisa que podemos concluir é que modelos overfitados não funcionam em produção, pq eles decoraram os dados, e não aprenderam.\n",
    "\n"
   ]
  },
  {
   "cell_type": "code",
   "execution_count": 1,
   "metadata": {},
   "outputs": [],
   "source": [
    "import pandas as pd\n",
    "import numpy as np"
   ]
  },
  {
   "cell_type": "code",
   "execution_count": 42,
   "metadata": {},
   "outputs": [
    {
     "name": "stdout",
     "output_type": "stream",
     "text": [
      "<class 'pandas.core.frame.DataFrame'>\n",
      "RangeIndex: 20640 entries, 0 to 20639\n",
      "Data columns (total 10 columns):\n",
      " #   Column              Non-Null Count  Dtype  \n",
      "---  ------              --------------  -----  \n",
      " 0   longitude           20640 non-null  float64\n",
      " 1   latitude            20640 non-null  float64\n",
      " 2   housing_median_age  20640 non-null  float64\n",
      " 3   total_rooms         20640 non-null  float64\n",
      " 4   total_bedrooms      20640 non-null  float64\n",
      " 5   population          20640 non-null  float64\n",
      " 6   households          20640 non-null  float64\n",
      " 7   median_income       20640 non-null  float64\n",
      " 8   median_house_value  20640 non-null  float64\n",
      " 9   ocean_proximity     20640 non-null  int32  \n",
      "dtypes: float64(9), int32(1)\n",
      "memory usage: 1.5 MB\n"
     ]
    },
    {
     "name": "stderr",
     "output_type": "stream",
     "text": [
      "C:\\Users\\nando\\AppData\\Local\\Temp\\ipykernel_10076\\305944613.py:2: SettingWithCopyWarning: \n",
      "A value is trying to be set on a copy of a slice from a DataFrame\n",
      "\n",
      "See the caveats in the documentation: https://pandas.pydata.org/pandas-docs/stable/user_guide/indexing.html#returning-a-view-versus-a-copy\n",
      "  houses_df.total_bedrooms.loc[houses_df.total_bedrooms.isnull()] = 0\n"
     ]
    }
   ],
   "source": [
    "houses_df = pd.read_csv('housing.csv')\n",
    "houses_df.total_bedrooms.loc[houses_df.total_bedrooms.isnull()] = 0\n",
    "\n",
    "conditions = [\n",
    "    (houses_df['ocean_proximity'] == 'NEAR BAY'),\n",
    "    (houses_df['ocean_proximity'] == '<1H OCEAN'),\n",
    "    (houses_df['ocean_proximity'] == 'INLAND'),\n",
    "    (houses_df['ocean_proximity'] == 'NEAR OCEAN'),\n",
    "    (houses_df['ocean_proximity'] == 'ISLAND'),\n",
    "]\n",
    "\n",
    "choises = [1, 2, 3, 4, 5]\n",
    "\n",
    "houses_df.ocean_proximity = np.select(conditions, choises, default=0)\n",
    "\n",
    "houses_df.info()\n"
   ]
  },
  {
   "cell_type": "code",
   "execution_count": 15,
   "metadata": {},
   "outputs": [],
   "source": [
    "from sklearn.linear_model import LinearRegression\n",
    "from sklearn.model_selection import train_test_split"
   ]
  },
  {
   "cell_type": "code",
   "execution_count": 48,
   "metadata": {},
   "outputs": [
    {
     "data": {
      "text/plain": [
       "array([241956.86469905, 103602.73140135, 252563.64527454, ...,\n",
       "       186687.61451012, 171335.83195643, 165430.80011359])"
      ]
     },
     "execution_count": 48,
     "metadata": {},
     "output_type": "execute_result"
    }
   ],
   "source": [
    "y = houses_df.median_house_value\n",
    "x = houses_df.drop('median_house_value', axis=1)\n",
    "\n",
    "x_train, x_test, y_train, y_test = train_test_split(x, y, test_size=0.30, random_state=1)  # decretei que 30% dos meus dados seriam para validar\n",
    "\n",
    "modelo = LinearRegression()\n",
    "modelo.fit(x_train, y_train)\n",
    "\n",
    "predict = modelo.predict(x_test)\n",
    "predict"
   ]
  },
  {
   "cell_type": "code",
   "execution_count": 51,
   "metadata": {},
   "outputs": [
    {
     "data": {
      "text/plain": [
       "69992.44"
      ]
     },
     "execution_count": 51,
     "metadata": {},
     "output_type": "execute_result"
    }
   ],
   "source": [
    "# calculando o MSE\n",
    "from sklearn.metrics import mean_squared_error\n",
    "\n",
    "mse = np.sqrt(mean_squared_error(y_test, predict))\n",
    "round(mse, 2)"
   ]
  },
  {
   "cell_type": "code",
   "execution_count": null,
   "metadata": {},
   "outputs": [],
   "source": []
  }
 ],
 "metadata": {
  "kernelspec": {
   "display_name": "base",
   "language": "python",
   "name": "python3"
  },
  "language_info": {
   "codemirror_mode": {
    "name": "ipython",
    "version": 3
   },
   "file_extension": ".py",
   "mimetype": "text/x-python",
   "name": "python",
   "nbconvert_exporter": "python",
   "pygments_lexer": "ipython3",
   "version": "3.10.9"
  },
  "orig_nbformat": 4
 },
 "nbformat": 4,
 "nbformat_minor": 2
}
