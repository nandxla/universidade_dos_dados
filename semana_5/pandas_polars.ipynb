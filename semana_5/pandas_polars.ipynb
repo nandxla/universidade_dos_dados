{
 "cells": [
  {
   "cell_type": "code",
   "execution_count": 1,
   "id": "8341f8d2",
   "metadata": {},
   "outputs": [],
   "source": [
    "import polars as pl"
   ]
  },
  {
   "cell_type": "code",
   "execution_count": 2,
   "id": "62993b3b",
   "metadata": {},
   "outputs": [],
   "source": [
    "nba_df = pl.read_csv('all_seasons.csv')"
   ]
  },
  {
   "cell_type": "code",
   "execution_count": 3,
   "id": "9995b915",
   "metadata": {},
   "outputs": [
    {
     "data": {
      "text/html": [
       "<div><style>\n",
       ".dataframe > thead > tr > th,\n",
       ".dataframe > tbody > tr > td {\n",
       "  text-align: right;\n",
       "  white-space: pre-wrap;\n",
       "}\n",
       "</style>\n",
       "<small>shape: (5, 22)</small><table border=\"1\" class=\"dataframe\"><thead><tr><th></th><th>player_name</th><th>team_abbreviation</th><th>age</th><th>player_height</th><th>player_weight</th><th>college</th><th>country</th><th>draft_year</th><th>draft_round</th><th>draft_number</th><th>gp</th><th>pts</th><th>reb</th><th>ast</th><th>net_rating</th><th>oreb_pct</th><th>dreb_pct</th><th>usg_pct</th><th>ts_pct</th><th>ast_pct</th><th>season</th></tr><tr><td>i64</td><td>str</td><td>str</td><td>f64</td><td>f64</td><td>f64</td><td>str</td><td>str</td><td>str</td><td>str</td><td>str</td><td>i64</td><td>f64</td><td>f64</td><td>f64</td><td>f64</td><td>f64</td><td>f64</td><td>f64</td><td>f64</td><td>f64</td><td>str</td></tr></thead><tbody><tr><td>0</td><td>&quot;Randy Livingst…</td><td>&quot;HOU&quot;</td><td>22.0</td><td>193.04</td><td>94.800728</td><td>&quot;Louisiana Stat…</td><td>&quot;USA&quot;</td><td>&quot;1996&quot;</td><td>&quot;2&quot;</td><td>&quot;42&quot;</td><td>64</td><td>3.9</td><td>1.5</td><td>2.4</td><td>0.3</td><td>0.042</td><td>0.071</td><td>0.169</td><td>0.487</td><td>0.248</td><td>&quot;1996-97&quot;</td></tr><tr><td>1</td><td>&quot;Gaylon Nickers…</td><td>&quot;WAS&quot;</td><td>28.0</td><td>190.5</td><td>86.18248</td><td>&quot;Northwestern O…</td><td>&quot;USA&quot;</td><td>&quot;1994&quot;</td><td>&quot;2&quot;</td><td>&quot;34&quot;</td><td>4</td><td>3.8</td><td>1.3</td><td>0.3</td><td>8.9</td><td>0.03</td><td>0.111</td><td>0.174</td><td>0.497</td><td>0.043</td><td>&quot;1996-97&quot;</td></tr><tr><td>2</td><td>&quot;George Lynch&quot;</td><td>&quot;VAN&quot;</td><td>26.0</td><td>203.2</td><td>103.418976</td><td>&quot;North Carolina…</td><td>&quot;USA&quot;</td><td>&quot;1993&quot;</td><td>&quot;1&quot;</td><td>&quot;12&quot;</td><td>41</td><td>8.3</td><td>6.4</td><td>1.9</td><td>-8.2</td><td>0.106</td><td>0.185</td><td>0.175</td><td>0.512</td><td>0.125</td><td>&quot;1996-97&quot;</td></tr><tr><td>3</td><td>&quot;George McCloud…</td><td>&quot;LAL&quot;</td><td>30.0</td><td>203.2</td><td>102.0582</td><td>&quot;Florida State&quot;</td><td>&quot;USA&quot;</td><td>&quot;1989&quot;</td><td>&quot;1&quot;</td><td>&quot;7&quot;</td><td>64</td><td>10.2</td><td>2.8</td><td>1.7</td><td>-2.7</td><td>0.027</td><td>0.111</td><td>0.206</td><td>0.527</td><td>0.125</td><td>&quot;1996-97&quot;</td></tr><tr><td>4</td><td>&quot;George Zidek&quot;</td><td>&quot;DEN&quot;</td><td>23.0</td><td>213.36</td><td>119.748288</td><td>&quot;UCLA&quot;</td><td>&quot;USA&quot;</td><td>&quot;1995&quot;</td><td>&quot;1&quot;</td><td>&quot;22&quot;</td><td>52</td><td>2.8</td><td>1.7</td><td>0.3</td><td>-14.1</td><td>0.102</td><td>0.169</td><td>0.195</td><td>0.5</td><td>0.064</td><td>&quot;1996-97&quot;</td></tr></tbody></table></div>"
      ],
      "text/plain": [
       "shape: (5, 22)\n",
       "┌─────┬──────────────────┬───────────────────┬──────┬───┬─────────┬────────┬─────────┬─────────┐\n",
       "│     ┆ player_name      ┆ team_abbreviation ┆ age  ┆ … ┆ usg_pct ┆ ts_pct ┆ ast_pct ┆ season  │\n",
       "│ --- ┆ ---              ┆ ---               ┆ ---  ┆   ┆ ---     ┆ ---    ┆ ---     ┆ ---     │\n",
       "│ i64 ┆ str              ┆ str               ┆ f64  ┆   ┆ f64     ┆ f64    ┆ f64     ┆ str     │\n",
       "╞═════╪══════════════════╪═══════════════════╪══════╪═══╪═════════╪════════╪═════════╪═════════╡\n",
       "│ 0   ┆ Randy Livingston ┆ HOU               ┆ 22.0 ┆ … ┆ 0.169   ┆ 0.487  ┆ 0.248   ┆ 1996-97 │\n",
       "│ 1   ┆ Gaylon Nickerson ┆ WAS               ┆ 28.0 ┆ … ┆ 0.174   ┆ 0.497  ┆ 0.043   ┆ 1996-97 │\n",
       "│ 2   ┆ George Lynch     ┆ VAN               ┆ 26.0 ┆ … ┆ 0.175   ┆ 0.512  ┆ 0.125   ┆ 1996-97 │\n",
       "│ 3   ┆ George McCloud   ┆ LAL               ┆ 30.0 ┆ … ┆ 0.206   ┆ 0.527  ┆ 0.125   ┆ 1996-97 │\n",
       "│ 4   ┆ George Zidek     ┆ DEN               ┆ 23.0 ┆ … ┆ 0.195   ┆ 0.5    ┆ 0.064   ┆ 1996-97 │\n",
       "└─────┴──────────────────┴───────────────────┴──────┴───┴─────────┴────────┴─────────┴─────────┘"
      ]
     },
     "execution_count": 3,
     "metadata": {},
     "output_type": "execute_result"
    }
   ],
   "source": [
    "nba_df.head()"
   ]
  },
  {
   "cell_type": "code",
   "execution_count": 4,
   "id": "4ed187e9",
   "metadata": {},
   "outputs": [
    {
     "data": {
      "text/html": [
       "<div><style>\n",
       ".dataframe > thead > tr > th,\n",
       ".dataframe > tbody > tr > td {\n",
       "  text-align: right;\n",
       "  white-space: pre-wrap;\n",
       "}\n",
       "</style>\n",
       "<small>shape: (5, 22)</small><table border=\"1\" class=\"dataframe\"><thead><tr><th></th><th>player_name</th><th>team_abbreviation</th><th>age</th><th>player_height</th><th>player_weight</th><th>college</th><th>country</th><th>draft_year</th><th>draft_round</th><th>draft_number</th><th>gp</th><th>pts</th><th>reb</th><th>ast</th><th>net_rating</th><th>oreb_pct</th><th>dreb_pct</th><th>usg_pct</th><th>ts_pct</th><th>ast_pct</th><th>season</th></tr><tr><td>i64</td><td>str</td><td>str</td><td>f64</td><td>f64</td><td>f64</td><td>str</td><td>str</td><td>str</td><td>str</td><td>str</td><td>i64</td><td>f64</td><td>f64</td><td>f64</td><td>f64</td><td>f64</td><td>f64</td><td>f64</td><td>f64</td><td>f64</td><td>str</td></tr></thead><tbody><tr><td>12839</td><td>&quot;Joel Embiid&quot;</td><td>&quot;PHI&quot;</td><td>29.0</td><td>213.36</td><td>127.00576</td><td>&quot;Kansas&quot;</td><td>&quot;Cameroon&quot;</td><td>&quot;2014&quot;</td><td>&quot;1&quot;</td><td>&quot;3&quot;</td><td>66</td><td>33.1</td><td>10.2</td><td>4.2</td><td>8.8</td><td>0.057</td><td>0.243</td><td>0.37</td><td>0.655</td><td>0.233</td><td>&quot;2022-23&quot;</td></tr><tr><td>12840</td><td>&quot;John Butler Jr…</td><td>&quot;POR&quot;</td><td>20.0</td><td>213.36</td><td>86.18248</td><td>&quot;Florida State&quot;</td><td>&quot;USA&quot;</td><td>&quot;Undrafted&quot;</td><td>&quot;Undrafted&quot;</td><td>&quot;Undrafted&quot;</td><td>19</td><td>2.4</td><td>0.9</td><td>0.6</td><td>-16.1</td><td>0.012</td><td>0.065</td><td>0.102</td><td>0.411</td><td>0.066</td><td>&quot;2022-23&quot;</td></tr><tr><td>12841</td><td>&quot;John Collins&quot;</td><td>&quot;ATL&quot;</td><td>25.0</td><td>205.74</td><td>102.511792</td><td>&quot;Wake Forest&quot;</td><td>&quot;USA&quot;</td><td>&quot;2017&quot;</td><td>&quot;1&quot;</td><td>&quot;19&quot;</td><td>71</td><td>13.1</td><td>6.5</td><td>1.2</td><td>-0.2</td><td>0.035</td><td>0.18</td><td>0.168</td><td>0.593</td><td>0.052</td><td>&quot;2022-23&quot;</td></tr><tr><td>12842</td><td>&quot;Jericho Sims&quot;</td><td>&quot;NYK&quot;</td><td>24.0</td><td>208.28</td><td>113.398</td><td>&quot;Texas&quot;</td><td>&quot;USA&quot;</td><td>&quot;2021&quot;</td><td>&quot;2&quot;</td><td>&quot;58&quot;</td><td>52</td><td>3.4</td><td>4.7</td><td>0.5</td><td>-6.7</td><td>0.117</td><td>0.175</td><td>0.074</td><td>0.78</td><td>0.044</td><td>&quot;2022-23&quot;</td></tr><tr><td>12843</td><td>&quot;JaMychal Green…</td><td>&quot;GSW&quot;</td><td>33.0</td><td>205.74</td><td>102.965384</td><td>&quot;Alabama&quot;</td><td>&quot;USA&quot;</td><td>&quot;Undrafted&quot;</td><td>&quot;Undrafted&quot;</td><td>&quot;Undrafted&quot;</td><td>57</td><td>6.4</td><td>3.6</td><td>0.9</td><td>-8.2</td><td>0.087</td><td>0.164</td><td>0.169</td><td>0.65</td><td>0.094</td><td>&quot;2022-23&quot;</td></tr></tbody></table></div>"
      ],
      "text/plain": [
       "shape: (5, 22)\n",
       "┌───────┬─────────────────┬───────────────────┬──────┬───┬─────────┬────────┬─────────┬─────────┐\n",
       "│       ┆ player_name     ┆ team_abbreviation ┆ age  ┆ … ┆ usg_pct ┆ ts_pct ┆ ast_pct ┆ season  │\n",
       "│ ---   ┆ ---             ┆ ---               ┆ ---  ┆   ┆ ---     ┆ ---    ┆ ---     ┆ ---     │\n",
       "│ i64   ┆ str             ┆ str               ┆ f64  ┆   ┆ f64     ┆ f64    ┆ f64     ┆ str     │\n",
       "╞═══════╪═════════════════╪═══════════════════╪══════╪═══╪═════════╪════════╪═════════╪═════════╡\n",
       "│ 12839 ┆ Joel Embiid     ┆ PHI               ┆ 29.0 ┆ … ┆ 0.37    ┆ 0.655  ┆ 0.233   ┆ 2022-23 │\n",
       "│ 12840 ┆ John Butler Jr. ┆ POR               ┆ 20.0 ┆ … ┆ 0.102   ┆ 0.411  ┆ 0.066   ┆ 2022-23 │\n",
       "│ 12841 ┆ John Collins    ┆ ATL               ┆ 25.0 ┆ … ┆ 0.168   ┆ 0.593  ┆ 0.052   ┆ 2022-23 │\n",
       "│ 12842 ┆ Jericho Sims    ┆ NYK               ┆ 24.0 ┆ … ┆ 0.074   ┆ 0.78   ┆ 0.044   ┆ 2022-23 │\n",
       "│ 12843 ┆ JaMychal Green  ┆ GSW               ┆ 33.0 ┆ … ┆ 0.169   ┆ 0.65   ┆ 0.094   ┆ 2022-23 │\n",
       "└───────┴─────────────────┴───────────────────┴──────┴───┴─────────┴────────┴─────────┴─────────┘"
      ]
     },
     "execution_count": 4,
     "metadata": {},
     "output_type": "execute_result"
    }
   ],
   "source": [
    "nba_df.tail()"
   ]
  },
  {
   "cell_type": "code",
   "execution_count": 5,
   "id": "683c4b02",
   "metadata": {},
   "outputs": [
    {
     "ename": "AttributeError",
     "evalue": "'DataFrame' object has no attribute 'info'",
     "output_type": "error",
     "traceback": [
      "\u001b[1;31m---------------------------------------------------------------------------\u001b[0m",
      "\u001b[1;31mAttributeError\u001b[0m                            Traceback (most recent call last)",
      "Cell \u001b[1;32mIn[5], line 1\u001b[0m\n\u001b[1;32m----> 1\u001b[0m nba_df\u001b[38;5;241m.\u001b[39minfo()\n",
      "\u001b[1;31mAttributeError\u001b[0m: 'DataFrame' object has no attribute 'info'"
     ]
    }
   ],
   "source": [
    "nba_df.info()"
   ]
  },
  {
   "cell_type": "code",
   "execution_count": 7,
   "id": "4df9d0df",
   "metadata": {},
   "outputs": [
    {
     "data": {
      "text/html": [
       "<div><style>\n",
       ".dataframe > thead > tr > th,\n",
       ".dataframe > tbody > tr > td {\n",
       "  text-align: right;\n",
       "  white-space: pre-wrap;\n",
       "}\n",
       "</style>\n",
       "<small>shape: (1, 22)</small><table border=\"1\" class=\"dataframe\"><thead><tr><th></th><th>player_name</th><th>team_abbreviation</th><th>age</th><th>player_height</th><th>player_weight</th><th>college</th><th>country</th><th>draft_year</th><th>draft_round</th><th>draft_number</th><th>gp</th><th>pts</th><th>reb</th><th>ast</th><th>net_rating</th><th>oreb_pct</th><th>dreb_pct</th><th>usg_pct</th><th>ts_pct</th><th>ast_pct</th><th>season</th></tr><tr><td>u32</td><td>u32</td><td>u32</td><td>u32</td><td>u32</td><td>u32</td><td>u32</td><td>u32</td><td>u32</td><td>u32</td><td>u32</td><td>u32</td><td>u32</td><td>u32</td><td>u32</td><td>u32</td><td>u32</td><td>u32</td><td>u32</td><td>u32</td><td>u32</td><td>u32</td></tr></thead><tbody><tr><td>0</td><td>0</td><td>0</td><td>0</td><td>0</td><td>0</td><td>0</td><td>0</td><td>0</td><td>0</td><td>0</td><td>0</td><td>0</td><td>0</td><td>0</td><td>0</td><td>0</td><td>0</td><td>0</td><td>0</td><td>0</td><td>0</td></tr></tbody></table></div>"
      ],
      "text/plain": [
       "shape: (1, 22)\n",
       "┌─────┬─────────────┬───────────────────┬─────┬───┬─────────┬────────┬─────────┬────────┐\n",
       "│     ┆ player_name ┆ team_abbreviation ┆ age ┆ … ┆ usg_pct ┆ ts_pct ┆ ast_pct ┆ season │\n",
       "│ --- ┆ ---         ┆ ---               ┆ --- ┆   ┆ ---     ┆ ---    ┆ ---     ┆ ---    │\n",
       "│ u32 ┆ u32         ┆ u32               ┆ u32 ┆   ┆ u32     ┆ u32    ┆ u32     ┆ u32    │\n",
       "╞═════╪═════════════╪═══════════════════╪═════╪═══╪═════════╪════════╪═════════╪════════╡\n",
       "│ 0   ┆ 0           ┆ 0                 ┆ 0   ┆ … ┆ 0       ┆ 0      ┆ 0       ┆ 0      │\n",
       "└─────┴─────────────┴───────────────────┴─────┴───┴─────────┴────────┴─────────┴────────┘"
      ]
     },
     "execution_count": 7,
     "metadata": {},
     "output_type": "execute_result"
    }
   ],
   "source": [
    "nba_df.null_count()"
   ]
  },
  {
   "cell_type": "code",
   "execution_count": null,
   "id": "2e9716db",
   "metadata": {},
   "outputs": [],
   "source": []
  }
 ],
 "metadata": {
  "kernelspec": {
   "display_name": "Python 3 (ipykernel)",
   "language": "python",
   "name": "python3"
  },
  "language_info": {
   "codemirror_mode": {
    "name": "ipython",
    "version": 3
   },
   "file_extension": ".py",
   "mimetype": "text/x-python",
   "name": "python",
   "nbconvert_exporter": "python",
   "pygments_lexer": "ipython3",
   "version": "3.11.4"
  }
 },
 "nbformat": 4,
 "nbformat_minor": 5
}
